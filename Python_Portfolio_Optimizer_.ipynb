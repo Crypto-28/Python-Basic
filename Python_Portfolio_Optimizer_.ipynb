{
  "nbformat": 4,
  "nbformat_minor": 0,
  "metadata": {
    "colab": {
      "name": "Python Portfolio Optimizer .ipynb",
      "provenance": [],
      "collapsed_sections": [],
      "include_colab_link": true
    },
    "kernelspec": {
      "name": "python3",
      "display_name": "Python 3"
    }
  },
  "cells": [
    {
      "cell_type": "markdown",
      "metadata": {
        "id": "view-in-github",
        "colab_type": "text"
      },
      "source": [
        "<a href=\"https://colab.research.google.com/github/Crypto-28/Python-Basic/blob/master/Python_Portfolio_Optimizer_.ipynb\" target=\"_parent\"><img src=\"https://colab.research.google.com/assets/colab-badge.svg\" alt=\"Open In Colab\"/></a>"
      ]
    },
    {
      "cell_type": "code",
      "metadata": {
        "id": "oJcQ6spJwPGb",
        "colab_type": "code",
        "outputId": "e863a04a-366f-4c47-fdbe-d9b8f18b38fe",
        "colab": {
          "base_uri": "https://localhost:8080/",
          "height": 81
        }
      },
      "source": [
        "#description: This program attempts to optimize a user's portfolio using the Effifcient Frontier\n",
        "\n",
        "#Import the python libararies\n",
        "from pandas_datareader import data as web\n",
        "import pandas as pd\n",
        "import numpy as np\n",
        "from datetime import datetime\n",
        "import matplotlib.pyplot as plt\n",
        "plt.style.use(\"fivethirtyeight\")\n",
        "\n"
      ],
      "execution_count": 0,
      "outputs": [
        {
          "output_type": "stream",
          "text": [
            "/usr/local/lib/python3.6/dist-packages/pandas_datareader/compat/__init__.py:7: FutureWarning: pandas.util.testing is deprecated. Use the functions in the public API at pandas.testing instead.\n",
            "  from pandas.util.testing import assert_frame_equal\n"
          ],
          "name": "stderr"
        }
      ]
    },
    {
      "cell_type": "code",
      "metadata": {
        "id": "WRzmreRPwrIN",
        "colab_type": "code",
        "colab": {}
      },
      "source": [
        "# Get the stock symbols/tickers in the portfolio\n",
        "# FAANG\n",
        "assets=['FB','AMZN','AAPL','NFLX','GOOG']\n",
        "\n"
      ],
      "execution_count": 0,
      "outputs": []
    },
    {
      "cell_type": "code",
      "metadata": {
        "id": "HIs3ON9Oyi34",
        "colab_type": "code",
        "colab": {}
      },
      "source": [
        "# Assign weights to stocks\n",
        "\n",
        "weights = np.array([0.2,0.2,0.2,0.2,0.2])\n",
        "\n"
      ],
      "execution_count": 0,
      "outputs": []
    },
    {
      "cell_type": "code",
      "metadata": {
        "id": "y40nLK-yzAlf",
        "colab_type": "code",
        "colab": {}
      },
      "source": [
        "# Get the stocks/portfoiio start date\n",
        "\n",
        "stocks_start_date = \"2013-01-01\""
      ],
      "execution_count": 0,
      "outputs": []
    },
    {
      "cell_type": "code",
      "metadata": {
        "id": "rdfx_3VBzN6U",
        "colab_type": "code",
        "outputId": "69bd99ba-0e0f-41b3-d0f2-93c0a8440f3c",
        "colab": {
          "base_uri": "https://localhost:8080/",
          "height": 34
        }
      },
      "source": [
        "# Get the stocks/portfoiio end date (today)\n",
        "\n",
        "today = datetime.today().strftime('%Y-%m-%d')\n",
        "today "
      ],
      "execution_count": 0,
      "outputs": [
        {
          "output_type": "execute_result",
          "data": {
            "text/plain": [
              "'2020-05-24'"
            ]
          },
          "metadata": {
            "tags": []
          },
          "execution_count": 8
        }
      ]
    },
    {
      "cell_type": "code",
      "metadata": {
        "id": "9k3v_Rbdzbzv",
        "colab_type": "code",
        "colab": {}
      },
      "source": [
        "# Create a dataframe to store adjusted close price of the stocks\n",
        "df = pd.DataFrame()\n",
        "\n",
        "# Store the adjusted close price of the stock into the df\n",
        "for stock in assets:\n",
        "  df[stock]=web.DataReader(stock, data_source='yahoo',start=stocks_start_date,end=today)['Adj Close']"
      ],
      "execution_count": 0,
      "outputs": []
    },
    {
      "cell_type": "code",
      "metadata": {
        "id": "XFPpV0Euz-DJ",
        "colab_type": "code",
        "outputId": "7b4c4739-89ad-4efe-e4ae-819a68a0c513",
        "colab": {
          "base_uri": "https://localhost:8080/",
          "height": 450
        }
      },
      "source": [
        "# Show the df\n",
        "df"
      ],
      "execution_count": 0,
      "outputs": [
        {
          "output_type": "execute_result",
          "data": {
            "text/html": [
              "<div>\n",
              "<style scoped>\n",
              "    .dataframe tbody tr th:only-of-type {\n",
              "        vertical-align: middle;\n",
              "    }\n",
              "\n",
              "    .dataframe tbody tr th {\n",
              "        vertical-align: top;\n",
              "    }\n",
              "\n",
              "    .dataframe thead th {\n",
              "        text-align: right;\n",
              "    }\n",
              "</style>\n",
              "<table border=\"1\" class=\"dataframe\">\n",
              "  <thead>\n",
              "    <tr style=\"text-align: right;\">\n",
              "      <th></th>\n",
              "      <th>FB</th>\n",
              "      <th>AMZN</th>\n",
              "      <th>AAPL</th>\n",
              "      <th>NFLX</th>\n",
              "      <th>GOOG</th>\n",
              "    </tr>\n",
              "    <tr>\n",
              "      <th>Date</th>\n",
              "      <th></th>\n",
              "      <th></th>\n",
              "      <th></th>\n",
              "      <th></th>\n",
              "      <th></th>\n",
              "    </tr>\n",
              "  </thead>\n",
              "  <tbody>\n",
              "    <tr>\n",
              "      <th>2013-01-02</th>\n",
              "      <td>28.000000</td>\n",
              "      <td>257.309998</td>\n",
              "      <td>68.502106</td>\n",
              "      <td>13.144286</td>\n",
              "      <td>360.274597</td>\n",
              "    </tr>\n",
              "    <tr>\n",
              "      <th>2013-01-03</th>\n",
              "      <td>27.770000</td>\n",
              "      <td>258.480011</td>\n",
              "      <td>67.637436</td>\n",
              "      <td>13.798572</td>\n",
              "      <td>360.483826</td>\n",
              "    </tr>\n",
              "    <tr>\n",
              "      <th>2013-01-04</th>\n",
              "      <td>28.760000</td>\n",
              "      <td>259.149994</td>\n",
              "      <td>65.753418</td>\n",
              "      <td>13.711429</td>\n",
              "      <td>367.607117</td>\n",
              "    </tr>\n",
              "    <tr>\n",
              "      <th>2013-01-07</th>\n",
              "      <td>29.420000</td>\n",
              "      <td>268.459991</td>\n",
              "      <td>65.366646</td>\n",
              "      <td>14.171429</td>\n",
              "      <td>366.003143</td>\n",
              "    </tr>\n",
              "    <tr>\n",
              "      <th>2013-01-08</th>\n",
              "      <td>29.059999</td>\n",
              "      <td>266.380005</td>\n",
              "      <td>65.542587</td>\n",
              "      <td>13.880000</td>\n",
              "      <td>365.280823</td>\n",
              "    </tr>\n",
              "    <tr>\n",
              "      <th>...</th>\n",
              "      <td>...</td>\n",
              "      <td>...</td>\n",
              "      <td>...</td>\n",
              "      <td>...</td>\n",
              "      <td>...</td>\n",
              "    </tr>\n",
              "    <tr>\n",
              "      <th>2020-05-18</th>\n",
              "      <td>213.190002</td>\n",
              "      <td>2426.260010</td>\n",
              "      <td>314.959991</td>\n",
              "      <td>452.579987</td>\n",
              "      <td>1383.939941</td>\n",
              "    </tr>\n",
              "    <tr>\n",
              "      <th>2020-05-19</th>\n",
              "      <td>216.880005</td>\n",
              "      <td>2449.330078</td>\n",
              "      <td>313.140015</td>\n",
              "      <td>451.040009</td>\n",
              "      <td>1373.484985</td>\n",
              "    </tr>\n",
              "    <tr>\n",
              "      <th>2020-05-20</th>\n",
              "      <td>229.970001</td>\n",
              "      <td>2497.939941</td>\n",
              "      <td>319.230011</td>\n",
              "      <td>447.670013</td>\n",
              "      <td>1406.719971</td>\n",
              "    </tr>\n",
              "    <tr>\n",
              "      <th>2020-05-21</th>\n",
              "      <td>231.389999</td>\n",
              "      <td>2446.739990</td>\n",
              "      <td>316.850006</td>\n",
              "      <td>436.250000</td>\n",
              "      <td>1402.800049</td>\n",
              "    </tr>\n",
              "    <tr>\n",
              "      <th>2020-05-22</th>\n",
              "      <td>234.910004</td>\n",
              "      <td>2436.879883</td>\n",
              "      <td>318.890015</td>\n",
              "      <td>429.320007</td>\n",
              "      <td>1410.420044</td>\n",
              "    </tr>\n",
              "  </tbody>\n",
              "</table>\n",
              "<p>1861 rows × 5 columns</p>\n",
              "</div>"
            ],
            "text/plain": [
              "                    FB         AMZN        AAPL        NFLX         GOOG\n",
              "Date                                                                    \n",
              "2013-01-02   28.000000   257.309998   68.502106   13.144286   360.274597\n",
              "2013-01-03   27.770000   258.480011   67.637436   13.798572   360.483826\n",
              "2013-01-04   28.760000   259.149994   65.753418   13.711429   367.607117\n",
              "2013-01-07   29.420000   268.459991   65.366646   14.171429   366.003143\n",
              "2013-01-08   29.059999   266.380005   65.542587   13.880000   365.280823\n",
              "...                ...          ...         ...         ...          ...\n",
              "2020-05-18  213.190002  2426.260010  314.959991  452.579987  1383.939941\n",
              "2020-05-19  216.880005  2449.330078  313.140015  451.040009  1373.484985\n",
              "2020-05-20  229.970001  2497.939941  319.230011  447.670013  1406.719971\n",
              "2020-05-21  231.389999  2446.739990  316.850006  436.250000  1402.800049\n",
              "2020-05-22  234.910004  2436.879883  318.890015  429.320007  1410.420044\n",
              "\n",
              "[1861 rows x 5 columns]"
            ]
          },
          "metadata": {
            "tags": []
          },
          "execution_count": 16
        }
      ]
    },
    {
      "cell_type": "code",
      "metadata": {
        "id": "9XVZKo5Q1JUO",
        "colab_type": "code",
        "outputId": "05108342-642c-4b38-e685-3ae8abf52819",
        "colab": {
          "base_uri": "https://localhost:8080/",
          "height": 301
        }
      },
      "source": [
        "# Visually show the stock / portfolo\n",
        "Title = 'Portfolio Adj. Close Price History'\n",
        "\n",
        "# Get the stocks\n",
        "my_stocks = df\n",
        "\n",
        "# Create and plot the graph\n",
        "for c in my_stocks.columns.values:\n",
        "  plt.plot(my_stocks[c],label = c)\n",
        "\n",
        "plt.title(Title) \n",
        "plt.xlabel('DATE',fontsize =18)\n",
        "plt.ylabel('Adj Close price', fontsize =18) \n",
        "plt.legend(my_stocks.columns.values, loc = 'upper left')\n",
        "plt.show()"
      ],
      "execution_count": 0,
      "outputs": [
        {
          "output_type": "display_data",
          "data": {
            "image/png": "[encoded data removed]",
            "text/plain": [
              "<Figure size 432x288 with 1 Axes>"
            ]
          },
          "metadata": {
            "tags": [],
            "needs_background": "light"
          }
        }
      ]
    },
    {
      "cell_type": "code",
      "metadata": {
        "id": "zCzGrU652-Es",
        "colab_type": "code",
        "outputId": "fd0b53da-48a8-4a30-bbfe-5bda9805dfe8",
        "colab": {
          "base_uri": "https://localhost:8080/",
          "height": 450
        }
      },
      "source": [
        "#Show the daily simple return\n",
        "returns=df.pct_change()\n",
        "returns"
      ],
      "execution_count": 0,
      "outputs": [
        {
          "output_type": "execute_result",
          "data": {
            "text/html": [
              "<div>\n",
              "<style scoped>\n",
              "    .dataframe tbody tr th:only-of-type {\n",
              "        vertical-align: middle;\n",
              "    }\n",
              "\n",
              "    .dataframe tbody tr th {\n",
              "        vertical-align: top;\n",
              "    }\n",
              "\n",
              "    .dataframe thead th {\n",
              "        text-align: right;\n",
              "    }\n",
              "</style>\n",
              "<table border=\"1\" class=\"dataframe\">\n",
              "  <thead>\n",
              "    <tr style=\"text-align: right;\">\n",
              "      <th></th>\n",
              "      <th>FB</th>\n",
              "      <th>AMZN</th>\n",
              "      <th>AAPL</th>\n",
              "      <th>NFLX</th>\n",
              "      <th>GOOG</th>\n",
              "    </tr>\n",
              "    <tr>\n",
              "      <th>Date</th>\n",
              "      <th></th>\n",
              "      <th></th>\n",
              "      <th></th>\n",
              "      <th></th>\n",
              "      <th></th>\n",
              "    </tr>\n",
              "  </thead>\n",
              "  <tbody>\n",
              "    <tr>\n",
              "      <th>2013-01-02</th>\n",
              "      <td>NaN</td>\n",
              "      <td>NaN</td>\n",
              "      <td>NaN</td>\n",
              "      <td>NaN</td>\n",
              "      <td>NaN</td>\n",
              "    </tr>\n",
              "    <tr>\n",
              "      <th>2013-01-03</th>\n",
              "      <td>-0.008214</td>\n",
              "      <td>0.004547</td>\n",
              "      <td>-0.012623</td>\n",
              "      <td>0.049777</td>\n",
              "      <td>0.000581</td>\n",
              "    </tr>\n",
              "    <tr>\n",
              "      <th>2013-01-04</th>\n",
              "      <td>0.035650</td>\n",
              "      <td>0.002592</td>\n",
              "      <td>-0.027855</td>\n",
              "      <td>-0.006315</td>\n",
              "      <td>0.019760</td>\n",
              "    </tr>\n",
              "    <tr>\n",
              "      <th>2013-01-07</th>\n",
              "      <td>0.022949</td>\n",
              "      <td>0.035925</td>\n",
              "      <td>-0.005882</td>\n",
              "      <td>0.033549</td>\n",
              "      <td>-0.004363</td>\n",
              "    </tr>\n",
              "    <tr>\n",
              "      <th>2013-01-08</th>\n",
              "      <td>-0.012237</td>\n",
              "      <td>-0.007748</td>\n",
              "      <td>0.002692</td>\n",
              "      <td>-0.020565</td>\n",
              "      <td>-0.001974</td>\n",
              "    </tr>\n",
              "    <tr>\n",
              "      <th>...</th>\n",
              "      <td>...</td>\n",
              "      <td>...</td>\n",
              "      <td>...</td>\n",
              "      <td>...</td>\n",
              "      <td>...</td>\n",
              "    </tr>\n",
              "    <tr>\n",
              "      <th>2020-05-18</th>\n",
              "      <td>0.010954</td>\n",
              "      <td>0.006839</td>\n",
              "      <td>0.023561</td>\n",
              "      <td>-0.003545</td>\n",
              "      <td>0.007828</td>\n",
              "    </tr>\n",
              "    <tr>\n",
              "      <th>2020-05-19</th>\n",
              "      <td>0.017309</td>\n",
              "      <td>0.009508</td>\n",
              "      <td>-0.005778</td>\n",
              "      <td>-0.003403</td>\n",
              "      <td>-0.007554</td>\n",
              "    </tr>\n",
              "    <tr>\n",
              "      <th>2020-05-20</th>\n",
              "      <td>0.060356</td>\n",
              "      <td>0.019846</td>\n",
              "      <td>0.019448</td>\n",
              "      <td>-0.007472</td>\n",
              "      <td>0.024198</td>\n",
              "    </tr>\n",
              "    <tr>\n",
              "      <th>2020-05-21</th>\n",
              "      <td>0.006175</td>\n",
              "      <td>-0.020497</td>\n",
              "      <td>-0.007455</td>\n",
              "      <td>-0.025510</td>\n",
              "      <td>-0.002787</td>\n",
              "    </tr>\n",
              "    <tr>\n",
              "      <th>2020-05-22</th>\n",
              "      <td>0.015212</td>\n",
              "      <td>-0.004030</td>\n",
              "      <td>0.006438</td>\n",
              "      <td>-0.015885</td>\n",
              "      <td>0.005432</td>\n",
              "    </tr>\n",
              "  </tbody>\n",
              "</table>\n",
              "<p>1861 rows × 5 columns</p>\n",
              "</div>"
            ],
            "text/plain": [
              "                  FB      AMZN      AAPL      NFLX      GOOG\n",
              "Date                                                        \n",
              "2013-01-02       NaN       NaN       NaN       NaN       NaN\n",
              "2013-01-03 -0.008214  0.004547 -0.012623  0.049777  0.000581\n",
              "2013-01-04  0.035650  0.002592 -0.027855 -0.006315  0.019760\n",
              "2013-01-07  0.022949  0.035925 -0.005882  0.033549 -0.004363\n",
              "2013-01-08 -0.012237 -0.007748  0.002692 -0.020565 -0.001974\n",
              "...              ...       ...       ...       ...       ...\n",
              "2020-05-18  0.010954  0.006839  0.023561 -0.003545  0.007828\n",
              "2020-05-19  0.017309  0.009508 -0.005778 -0.003403 -0.007554\n",
              "2020-05-20  0.060356  0.019846  0.019448 -0.007472  0.024198\n",
              "2020-05-21  0.006175 -0.020497 -0.007455 -0.025510 -0.002787\n",
              "2020-05-22  0.015212 -0.004030  0.006438 -0.015885  0.005432\n",
              "\n",
              "[1861 rows x 5 columns]"
            ]
          },
          "metadata": {
            "tags": []
          },
          "execution_count": 23
        }
      ]
    },
    {
      "cell_type": "code",
      "metadata": {
        "id": "wdbDEiyw5oK3",
        "colab_type": "code",
        "outputId": "9ed8924e-8982-47ff-ef85-6bfefe1b7cbf",
        "colab": {
          "base_uri": "https://localhost:8080/",
          "height": 204
        }
      },
      "source": [
        "# Create and show the annualized covariance matrix\n",
        "cov_matrix_annual = returns.cov() * 252\n",
        "cov_matrix_annual"
      ],
      "execution_count": 0,
      "outputs": [
        {
          "output_type": "execute_result",
          "data": {
            "text/html": [
              "<div>\n",
              "<style scoped>\n",
              "    .dataframe tbody tr th:only-of-type {\n",
              "        vertical-align: middle;\n",
              "    }\n",
              "\n",
              "    .dataframe tbody tr th {\n",
              "        vertical-align: top;\n",
              "    }\n",
              "\n",
              "    .dataframe thead th {\n",
              "        text-align: right;\n",
              "    }\n",
              "</style>\n",
              "<table border=\"1\" class=\"dataframe\">\n",
              "  <thead>\n",
              "    <tr style=\"text-align: right;\">\n",
              "      <th></th>\n",
              "      <th>FB</th>\n",
              "      <th>AMZN</th>\n",
              "      <th>AAPL</th>\n",
              "      <th>NFLX</th>\n",
              "      <th>GOOG</th>\n",
              "    </tr>\n",
              "  </thead>\n",
              "  <tbody>\n",
              "    <tr>\n",
              "      <th>FB</th>\n",
              "      <td>0.116141</td>\n",
              "      <td>0.051831</td>\n",
              "      <td>0.040554</td>\n",
              "      <td>0.053781</td>\n",
              "      <td>0.048516</td>\n",
              "    </tr>\n",
              "    <tr>\n",
              "      <th>AMZN</th>\n",
              "      <td>0.051831</td>\n",
              "      <td>0.091878</td>\n",
              "      <td>0.035488</td>\n",
              "      <td>0.061062</td>\n",
              "      <td>0.046496</td>\n",
              "    </tr>\n",
              "    <tr>\n",
              "      <th>AAPL</th>\n",
              "      <td>0.040554</td>\n",
              "      <td>0.035488</td>\n",
              "      <td>0.076456</td>\n",
              "      <td>0.031641</td>\n",
              "      <td>0.037204</td>\n",
              "    </tr>\n",
              "    <tr>\n",
              "      <th>NFLX</th>\n",
              "      <td>0.053781</td>\n",
              "      <td>0.061062</td>\n",
              "      <td>0.031641</td>\n",
              "      <td>0.213453</td>\n",
              "      <td>0.048677</td>\n",
              "    </tr>\n",
              "    <tr>\n",
              "      <th>GOOG</th>\n",
              "      <td>0.048516</td>\n",
              "      <td>0.046496</td>\n",
              "      <td>0.037204</td>\n",
              "      <td>0.048677</td>\n",
              "      <td>0.064885</td>\n",
              "    </tr>\n",
              "  </tbody>\n",
              "</table>\n",
              "</div>"
            ],
            "text/plain": [
              "            FB      AMZN      AAPL      NFLX      GOOG\n",
              "FB    0.116141  0.051831  0.040554  0.053781  0.048516\n",
              "AMZN  0.051831  0.091878  0.035488  0.061062  0.046496\n",
              "AAPL  0.040554  0.035488  0.076456  0.031641  0.037204\n",
              "NFLX  0.053781  0.061062  0.031641  0.213453  0.048677\n",
              "GOOG  0.048516  0.046496  0.037204  0.048677  0.064885"
            ]
          },
          "metadata": {
            "tags": []
          },
          "execution_count": 24
        }
      ]
    },
    {
      "cell_type": "code",
      "metadata": {
        "id": "sm7OAJXu6HZ0",
        "colab_type": "code",
        "outputId": "87477cec-c95f-4a9e-a936-a0412489dd64",
        "colab": {
          "base_uri": "https://localhost:8080/",
          "height": 34
        }
      },
      "source": [
        "# Calculate the portfolio variance\n",
        "\n",
        "port_variance = np.dot(weights.T, np.dot(cov_matrix_annual,weights))\n",
        "port_variance"
      ],
      "execution_count": 0,
      "outputs": [
        {
          "output_type": "execute_result",
          "data": {
            "text/plain": [
              "0.058932504155951825"
            ]
          },
          "metadata": {
            "tags": []
          },
          "execution_count": 26
        }
      ]
    },
    {
      "cell_type": "code",
      "metadata": {
        "id": "2gj12sZH655S",
        "colab_type": "code",
        "outputId": "6e818111-b828-4125-a78b-a1d99764dfd9",
        "colab": {
          "base_uri": "https://localhost:8080/",
          "height": 34
        }
      },
      "source": [
        "# Calculate the portfolio volatilty aka standard deviation\n",
        "port_volatilty  =np.sqrt(port_variance)\n",
        "port_volatilty\n"
      ],
      "execution_count": 0,
      "outputs": [
        {
          "output_type": "execute_result",
          "data": {
            "text/plain": [
              "0.24276017827467467"
            ]
          },
          "metadata": {
            "tags": []
          },
          "execution_count": 27
        }
      ]
    },
    {
      "cell_type": "code",
      "metadata": {
        "id": "gV3XNjhn9zS-",
        "colab_type": "code",
        "outputId": "9c44a52b-cf05-4434-8b1c-87f140c26efc",
        "colab": {
          "base_uri": "https://localhost:8080/",
          "height": 34
        }
      },
      "source": [
        "# Calculate the annual portfolio return\n",
        "portfolioSimpleAnuualReturn=np.sum(returns.mean()*weights) * 252\n",
        "portfolioSimpleAnuualReturn"
      ],
      "execution_count": 0,
      "outputs": [
        {
          "output_type": "execute_result",
          "data": {
            "text/plain": [
              "0.3471242706498469"
            ]
          },
          "metadata": {
            "tags": []
          },
          "execution_count": 29
        }
      ]
    },
    {
      "cell_type": "code",
      "metadata": {
        "id": "hTMLy12C-F2C",
        "colab_type": "code",
        "outputId": "fad02da0-286b-48b4-ac78-b58bba942eab",
        "colab": {
          "base_uri": "https://localhost:8080/",
          "height": 68
        }
      },
      "source": [
        "# Show the expected annual return, volatilty & variance\n",
        "\n",
        "percent_var=str(round(port_variance,2)*100) + \"%\"\n",
        "percent_vols=str(round(port_volatilty,2)*100) + \"%\"\n",
        "percent_ret=str(round(portfolioSimpleAnuualReturn,2)*100) + \"%\"\n",
        "\n",
        "print(\"Expected annual return:\" + percent_ret)\n",
        "print(\"Annual Volatility:\" + percent_vols)\n",
        "print('Annual Variance:' + percent_var)"
      ],
      "execution_count": 0,
      "outputs": [
        {
          "output_type": "stream",
          "text": [
            "Expected annual return:35.0%\n",
            "Annual Volatility:24.0%\n",
            "Annual Variance:6.0%\n"
          ],
          "name": "stdout"
        }
      ]
    },
    {
      "cell_type": "code",
      "metadata": {
        "id": "IGaz4mT2--gE",
        "colab_type": "code",
        "outputId": "6a154dc8-0fbf-484a-acef-f239da623077",
        "colab": {
          "base_uri": "https://localhost:8080/",
          "height": 614
        }
      },
      "source": [
        "pip install PyPortfolioOpt"
      ],
      "execution_count": 0,
      "outputs": [
        {
          "output_type": "stream",
          "text": [
            "Collecting PyPortfolioOpt\n",
            "\u001b[?25l  Downloading https://files.pythonhosted.org/packages/64/2a/bab6a310a6cb3020a1ff1eb9956bc358ed5c0b271ffc39f13e10428a2135/PyPortfolioOpt-1.2.2-py3-none-any.whl (49kB)\n",
            "\u001b[K     |████████████████████████████████| 51kB 1.6MB/s \n",
            "\u001b[?25hCollecting pandas<0.26.0,>=0.25.3\n",
            "\u001b[?25l  Downloading https://files.pythonhosted.org/packages/52/3f/f6a428599e0d4497e1595030965b5ba455fd8ade6e977e3c819973c4b41d/pandas-0.25.3-cp36-cp36m-manylinux1_x86_64.whl (10.4MB)\n",
            "\u001b[K     |████████████████████████████████| 10.4MB 6.4MB/s \n",
            "\u001b[?25hRequirement already satisfied: cvxpy<2.0.0,>=1.0.28 in /usr/local/lib/python3.6/dist-packages (from PyPortfolioOpt) (1.0.31)\n",
            "Requirement already satisfied: scipy in /usr/local/lib/python3.6/dist-packages (from PyPortfolioOpt) (1.4.1)\n",
            "Requirement already satisfied: matplotlib<4.0.0,>=3.2.0 in /usr/local/lib/python3.6/dist-packages (from PyPortfolioOpt) (3.2.1)\n",
            "Requirement already satisfied: numpy in /usr/local/lib/python3.6/dist-packages (from PyPortfolioOpt) (1.18.4)\n",
            "Requirement already satisfied: pytz>=2017.2 in /usr/local/lib/python3.6/dist-packages (from pandas<0.26.0,>=0.25.3->PyPortfolioOpt) (2018.9)\n",
            "Requirement already satisfied: python-dateutil>=2.6.1 in /usr/local/lib/python3.6/dist-packages (from pandas<0.26.0,>=0.25.3->PyPortfolioOpt) (2.8.1)\n",
            "Requirement already satisfied: scs>=1.1.3 in /usr/local/lib/python3.6/dist-packages (from cvxpy<2.0.0,>=1.0.28->PyPortfolioOpt) (2.1.2)\n",
            "Requirement already satisfied: osqp>=0.4.1 in /usr/local/lib/python3.6/dist-packages (from cvxpy<2.0.0,>=1.0.28->PyPortfolioOpt) (0.6.1)\n",
            "Requirement already satisfied: multiprocess in /usr/local/lib/python3.6/dist-packages (from cvxpy<2.0.0,>=1.0.28->PyPortfolioOpt) (0.70.9)\n",
            "Requirement already satisfied: ecos>=2 in /usr/local/lib/python3.6/dist-packages (from cvxpy<2.0.0,>=1.0.28->PyPortfolioOpt) (2.0.7.post1)\n",
            "Requirement already satisfied: kiwisolver>=1.0.1 in /usr/local/lib/python3.6/dist-packages (from matplotlib<4.0.0,>=3.2.0->PyPortfolioOpt) (1.2.0)\n",
            "Requirement already satisfied: pyparsing!=2.0.4,!=2.1.2,!=2.1.6,>=2.0.1 in /usr/local/lib/python3.6/dist-packages (from matplotlib<4.0.0,>=3.2.0->PyPortfolioOpt) (2.4.7)\n",
            "Requirement already satisfied: cycler>=0.10 in /usr/local/lib/python3.6/dist-packages (from matplotlib<4.0.0,>=3.2.0->PyPortfolioOpt) (0.10.0)\n",
            "Requirement already satisfied: six>=1.5 in /usr/local/lib/python3.6/dist-packages (from python-dateutil>=2.6.1->pandas<0.26.0,>=0.25.3->PyPortfolioOpt) (1.12.0)\n",
            "Requirement already satisfied: future in /usr/local/lib/python3.6/dist-packages (from osqp>=0.4.1->cvxpy<2.0.0,>=1.0.28->PyPortfolioOpt) (0.16.0)\n",
            "Requirement already satisfied: dill>=0.3.1 in /usr/local/lib/python3.6/dist-packages (from multiprocess->cvxpy<2.0.0,>=1.0.28->PyPortfolioOpt) (0.3.1.1)\n",
            "\u001b[31mERROR: google-colab 1.0.0 has requirement pandas~=1.0.0; python_version >= \"3.0\", but you'll have pandas 0.25.3 which is incompatible.\u001b[0m\n",
            "Installing collected packages: pandas, PyPortfolioOpt\n",
            "  Found existing installation: pandas 1.0.3\n",
            "    Uninstalling pandas-1.0.3:\n",
            "      Successfully uninstalled pandas-1.0.3\n",
            "Successfully installed PyPortfolioOpt-1.2.2 pandas-0.25.3\n"
          ],
          "name": "stdout"
        },
        {
          "output_type": "display_data",
          "data": {
            "application/vnd.colab-display-data+json": {
              "pip_warning": {
                "packages": [
                  "pandas"
                ]
              }
            }
          },
          "metadata": {
            "tags": []
          }
        }
      ]
    },
    {
      "cell_type": "code",
      "metadata": {
        "id": "E6QuIT5E_w2t",
        "colab_type": "code",
        "colab": {}
      },
      "source": [
        "from pypfopt.efficient_frontier import EfficientFrontier\n",
        "from pypfopt import risk_models\n",
        "from pypfopt import expected_returns"
      ],
      "execution_count": 0,
      "outputs": []
    },
    {
      "cell_type": "code",
      "metadata": {
        "id": "W14WFuAqALXf",
        "colab_type": "code",
        "colab": {}
      },
      "source": [
        "# Portfolio Optimization\n",
        "\n",
        "#Calculate the expected returns & annulized sample covariance martix of asset returns\n",
        "mu = expected_returns.mean_historical_return(df)\n",
        "S = risk_models.sample_cov(df)\n",
        "\n",
        "\n"
      ],
      "execution_count": 0,
      "outputs": []
    },
    {
      "cell_type": "code",
      "metadata": {
        "id": "WMII5sJVAOgi",
        "colab_type": "code",
        "outputId": "19a30a80-cb1a-4178-8076-f761fccfe24a",
        "colab": {
          "base_uri": "https://localhost:8080/",
          "height": 102
        }
      },
      "source": [
        "# Optimize for max sharpe ratio\n",
        "\n",
        "ef = EfficientFrontier(mu,S)\n",
        "weights = ef.max_sharpe()\n",
        "cleaned_weights=ef.clean_weights()\n",
        "print(cleaned_weights)\n",
        "ef.portfolio_performance(verbose=True)\n",
        "\n"
      ],
      "execution_count": 0,
      "outputs": [
        {
          "output_type": "stream",
          "text": [
            "{'FB': 0.18256, 'AMZN': 0.27945, 'AAPL': 0.19753, 'NFLX': 0.34046, 'GOOG': 0.0}\n",
            "Expected annual return: 40.6%\n",
            "Annual volatility: 27.1%\n",
            "Sharpe Ratio: 1.42\n"
          ],
          "name": "stdout"
        },
        {
          "output_type": "execute_result",
          "data": {
            "text/plain": [
              "(0.40575292998264956, 0.27103832687702195, 1.4232412604792863)"
            ]
          },
          "metadata": {
            "tags": []
          },
          "execution_count": 39
        }
      ]
    },
    {
      "cell_type": "code",
      "metadata": {
        "id": "gNDwheL7AYtQ",
        "colab_type": "code",
        "outputId": "c3179e6d-bc7d-41f5-b127-7f84d6c2a045",
        "colab": {
          "base_uri": "https://localhost:8080/",
          "height": 51
        }
      },
      "source": [
        "# Get the discrete allocation of each share or stock\n",
        "\n",
        "from pypfopt.discrete_allocation import DiscreteAllocation, get_latest_prices\n",
        "\n",
        "latest_prices = get_latest_prices(df)\n",
        "weight = cleaned_weights\n",
        "da = DiscreteAllocation(weights, latest_prices, total_portfolio_value= 1000000)\n",
        "allocation, leftover = da.lp_portfolio()\n",
        "\n",
        "print('Discrete allocation', allocation)\n",
        "print('Funds remaining: ${:.2f}'.format(leftover))"
      ],
      "execution_count": 0,
      "outputs": [
        {
          "output_type": "stream",
          "text": [
            "Discrete allocation {'FB': 777.0, 'AMZN': 115.0, 'AAPL': 617.0, 'NFLX': 793.0}\n",
            "Funds remaining: $27.84\n"
          ],
          "name": "stdout"
        }
      ]
    },
    {
      "cell_type": "code",
      "metadata": {
        "id": "y8-MaunZGTFi",
        "colab_type": "code",
        "outputId": "13dfb393-828a-4c00-ac23-4d702b747903",
        "colab": {
          "base_uri": "https://localhost:8080/",
          "height": 130
        }
      },
      "source": [
        ""
      ],
      "execution_count": 0,
      "outputs": [
        {
          "output_type": "error",
          "ename": "SyntaxError",
          "evalue": "ignored",
          "traceback": [
            "\u001b[0;36m  File \u001b[0;32m\"<ipython-input-4-f188d5ac1197>\"\u001b[0;36m, line \u001b[0;32m1\u001b[0m\n\u001b[0;31m    git init\u001b[0m\n\u001b[0m           ^\u001b[0m\n\u001b[0;31mSyntaxError\u001b[0m\u001b[0;31m:\u001b[0m invalid syntax\n"
          ]
        }
      ]
    },
    {
      "cell_type": "code",
      "metadata": {
        "id": "acbOujN4TTQY",
        "colab_type": "code",
        "colab": {}
      },
      "source": [
        ""
      ],
      "execution_count": 0,
      "outputs": []
    }
  ]
}